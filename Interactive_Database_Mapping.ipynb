{
 "cells": [
  {
   "cell_type": "markdown",
   "id": "fc154ec5-3c75-498c-ac47-1d4e308231e0",
   "metadata": {},
   "source": [
    "# Interactive Database Mapping #\n",
    "\n",
    "This Notebook contains a code to create an interactive and searchable map database of onshore wind turbine projects across the UK. \n",
    "\n",
    "The Notebook is split into two main sections:\n",
    "- Part 1: Data Preparation\n",
    "- Part 2: Making an Interactive Map"
   ]
  },
  {
   "cell_type": "markdown",
   "id": "32baf662-d0d1-496f-8145-220cc8df5925",
   "metadata": {},
   "source": [
    "## Part 1: Data Preparation ##\n",
    "\n",
    "We will begin by importing the neccessary packages for the analysis and map making:"
   ]
  },
  {
   "cell_type": "code",
   "execution_count": null,
   "id": "0acba6ec-3bfa-4cff-be60-532720de10ee",
   "metadata": {},
   "outputs": [],
   "source": [
    "import pandas as pd\n",
    "import geopandas as gpd\n",
    "import folium\n",
    "from folium.plugins import Search\n",
    "import ipyleaflet\n",
    "import json\n",
    "import matplotlib.pyplot as plt\n",
    "from matplotlib import colormaps\n",
    "import matplotlib.colors as mcolors"
   ]
  },
  {
   "cell_type": "markdown",
   "id": "09ff098e-256e-4d30-a7c4-5263168610c3",
   "metadata": {},
   "source": [
    "#### Clean the raw data to prepare for map making: ####"
   ]
  },
  {
   "cell_type": "markdown",
   "id": "f1fdbfc6-9549-4c6a-b90d-52e83ec39d19",
   "metadata": {},
   "source": [
    "##### 1. Load in the Rewnewable Energy Planning Database (REPD) quarterly extract for January 2025*: \n",
    "\n",
    "The data is currently in csv format.\n",
    "\n",
    "*Note: As long as the data columns are the same, the following code should be compatible with future quarterly extracts, allowing maintainance of the database."
   ]
  },
  {
   "cell_type": "code",
   "execution_count": null,
   "id": "acdf96c2-ee57-4fff-b874-6b970a7d8eb9",
   "metadata": {},
   "outputs": [],
   "source": [
    "# Load with cp1252 to avoid Unicode error as file is not in UTF-8 encoding.\n",
    "repd_data = pd.read_csv('repd-q4-jan-2025.csv', encoding='cp1252')\n",
    "\n",
    "# Then normalize any weird characters to ensure file reads correctly.\n",
    "repd_data = repd_data.map(lambda x: x.replace('\\xa0', ' ') if isinstance(x, str) else x)\n",
    "\n",
    "repd_data.head() # Show raw data to get familiar with the content."
   ]
  },
  {
   "cell_type": "markdown",
   "id": "a0b1f130-dac5-4e3d-91e3-f8dd8aab34e8",
   "metadata": {},
   "source": [
    "##### 2. Filter the REPD dataset to focus only on onshore wind turbine projects: #####"
   ]
  },
  {
   "cell_type": "code",
   "execution_count": null,
   "id": "87c1325a-8299-4942-bf4c-524b890e4387",
   "metadata": {},
   "outputs": [],
   "source": [
    "repd_data = repd_data[repd_data['Technology Type'] == 'Wind Onshore']"
   ]
  },
  {
   "cell_type": "markdown",
   "id": "2a04675d-e7d2-497d-bb5b-01b97b7e443f",
   "metadata": {},
   "source": [
    "##### 3. Filter out any unneccessary data columns: ##### \n",
    "(e.g. data related to other technologies such as solar, reference numbers used only by REPD data, etc..)"
   ]
  },
  {
   "cell_type": "code",
   "execution_count": null,
   "id": "38da9f25-71e4-46b0-8547-7e80a84d9faf",
   "metadata": {},
   "outputs": [],
   "source": [
    "# 3.1. First get a list of all the available data columns and their indices to help identify useful information:\n",
    "index_columns = [(index, column) for index, column in enumerate(repd_data.columns)]\n",
    "\n",
    "# Print the list\n",
    "for index, column in index_columns:\n",
    "    print(f\"{index}: {column}\")"
   ]
  },
  {
   "cell_type": "code",
   "execution_count": null,
   "id": "29ae3b42-8807-4303-9257-47fe093ce167",
   "metadata": {},
   "outputs": [],
   "source": [
    "# 3.2. Now filter the columns by dropping irrelevant columns by name:\n",
    "repd_wind = repd_data.drop(columns=['Old Ref ID', 'Ref ID', 'Technology Type', \n",
    "                                    'Storage Type', 'CHP Enabled', 'Storage Co-location REPD Ref ID', \n",
    "                                    'Share Community Scheme', 'CfD Allocation Round', 'RO Banding (ROC/MWh)', \n",
    "                                    'CfD Capacity (MW)', 'Mounting Type for Solar', 'Are they re-applying (New REPD Ref)', \n",
    "                                    'Are they re-applying (Old REPD Ref) ', 'Development Status', 'Offshore Wind Round', \n",
    "                                    'Heat Network Ref', 'Solar Site Area (sqm)'])\n",
    "\n",
    "repd_wind.head() # View updated repd_wind dataset"
   ]
  },
  {
   "cell_type": "markdown",
   "id": "1ea7b404-5f7b-4e5e-8912-4c8dc9f0467c",
   "metadata": {},
   "source": [
    "##### 4. Perform checks and cleaning operations on the remaining data to ensure full compatibility with mapping: #####"
   ]
  },
  {
   "cell_type": "code",
   "execution_count": null,
   "id": "8d28d115-b9e3-4591-ac13-c3e0b870bd05",
   "metadata": {},
   "outputs": [],
   "source": [
    "# 4.1. Check for suspicious characters in remaining columns which may stop the map from generating correctly:\n",
    "for col in repd_wind.columns:\n",
    "    if repd_wind[col].dtype == object:\n",
    "        if repd_wind[col].str.contains(r'\\\\[0-9]').any():\n",
    "            print(f\"Suspicious escape sequence in column: {col}\")"
   ]
  },
  {
   "cell_type": "code",
   "execution_count": null,
   "id": "5a45270a-bdac-4870-8ca9-ef6cac36330d",
   "metadata": {},
   "outputs": [],
   "source": [
    "# 4.1.2. Fix suspicious characters by escaping backslashes in all string/object columns:\n",
    "for col in repd_wind.select_dtypes(include='object').columns:\n",
    "    repd_wind[col] = repd_wind[col].str.replace(r'\\\\', r'\\\\\\\\', regex=True)"
   ]
  },
  {
   "cell_type": "code",
   "execution_count": null,
   "id": "1f6f1cf4-002b-48db-bd21-06918c721495",
   "metadata": {},
   "outputs": [],
   "source": [
    "# 4.2. Check for non-numeric entries in the coordinate columns and drop these data rows:\n",
    "non_numeric_x = repd_wind[~repd_wind['X-coordinate'].apply(pd.to_numeric, errors='coerce').notnull()]\n",
    "non_numeric_y = repd_wind[~repd_wind['Y-coordinate'].apply(pd.to_numeric, errors='coerce').notnull()]\n",
    "\n",
    "# Display rows with non-numeric coordinates\n",
    "print(\"Non-numeric X-coordinates:\")\n",
    "print(non_numeric_x[['X-coordinate', 'Y-coordinate']])\n",
    "\n",
    "print(\"Non-numeric Y-coordinates:\")\n",
    "print(non_numeric_y[['X-coordinate', 'Y-coordinate']])\n",
    "\n",
    "# Drop rows with non-numeric coordinates\n",
    "repd_wind = repd_wind.dropna(subset=['X-coordinate', 'Y-coordinate'])"
   ]
  },
  {
   "cell_type": "markdown",
   "id": "ba7b2e7d-e1aa-4681-817c-ee0ac9abafa2",
   "metadata": {},
   "source": [
    "##### 5. Convert the tabular data into a GeoDataFrame using the 'X-coordinate' and 'Y-coordinate' columns:"
   ]
  },
  {
   "cell_type": "code",
   "execution_count": null,
   "id": "2fdd7ff1-028d-437a-9aed-da7df5edbce3",
   "metadata": {},
   "outputs": [],
   "source": [
    "# Create the GeoDataFrame\n",
    "wind_turbines_27700 = gpd.GeoDataFrame(repd_wind,\n",
    "    geometry=gpd.points_from_xy(repd_wind['X-coordinate'], repd_wind['Y-coordinate']), # Create geometry from X, Y coordinate columns\n",
    "    crs='epsg:27700') # Set ESPG to British National Grid\n",
    "\n",
    "wind_turbines_27700.head() # Check if successful"
   ]
  },
  {
   "cell_type": "markdown",
   "id": "d1ee0117-0ba8-4442-9cca-b82c999deecd",
   "metadata": {},
   "source": [
    "Folium is most compatible with geographic coordinate systems, such as WGS 84 (epsg:4326). We will make a copy of the GeoDataFrame with WGS 84 coordinates for use in the folium map. \n",
    "We will also keep a copy with the British National Grid coordinates as this would be more useful for precise measurements of distances or any other analyses of interest."
   ]
  },
  {
   "cell_type": "code",
   "execution_count": null,
   "id": "bdac566e-4c7c-4324-84a9-e434b885c9df",
   "metadata": {},
   "outputs": [],
   "source": [
    "# Make a copy of the GeoDataFrame with WGS 84:\n",
    "wind_turbines_4326 = wind_turbines.to_crs(epsg=4326)\n",
    "print(wind_turbines_4326.crs) # Check if successful\n",
    "\n",
    "# Drop the now unneccessary coordinate columns:\n",
    "wind_turbines_4326 = wind_turbines_4326.drop(columns=['X-coordinate', 'Y-coordinate'])"
   ]
  },
  {
   "cell_type": "markdown",
   "id": "f07a94ce-b060-4e77-89bd-a9f5e4a58bb2",
   "metadata": {},
   "source": [
    "For the purposes of the interactive database, it may be more useful to replace NaN values with N/A values to signify to the user that this information is not available from the REPD dataset, but may be available elsewhere."
   ]
  },
  {
   "cell_type": "code",
   "execution_count": null,
   "id": "5af1f158-1aee-4606-b27b-78f168e1f3b6",
   "metadata": {},
   "outputs": [],
   "source": [
    "# Change NaN values for string columns to string N/A values:\n",
    "str_columns = wind_turbines_4326.select_dtypes(include=['object'])\n",
    "\n",
    "# Fill NaN values in string columns with 'N/A'\n",
    "wind_turbines_4326[str_columns.columns] = str_columns.fillna('N/A')\n",
    "wind_turbines_4326"
   ]
  },
  {
   "cell_type": "markdown",
   "id": "2a7f52d9-c368-4ad5-a309-0a51f8e47b45",
   "metadata": {},
   "source": [
    "##### 6. Perform last checks for invalid coordinates and invalid geometries, and drop any invalid results:"
   ]
  },
  {
   "cell_type": "code",
   "execution_count": null,
   "id": "f7fcca91-e172-4730-bf14-3b6e14b9c8fb",
   "metadata": {},
   "outputs": [],
   "source": [
    "# 6.1. Check for any data outside valid longitude (-180 to 180) or latitude (-90 to 90):\n",
    "invalid_coords = wind_turbines_4326[\n",
    "    (wind_turbines_4326.geometry.x < -180) |\n",
    "    (wind_turbines_4326.geometry.x > 180) |\n",
    "    (wind_turbines_4326.geometry.y < -90) |\n",
    "    (wind_turbines_4326.geometry.y > 90)]\n",
    "\n",
    "print(f\"Out-of-bounds coordinates: {len(invalid_coords)}\")\n",
    "invalid_coords[['Site Name', 'geometry']]"
   ]
  },
  {
   "cell_type": "code",
   "execution_count": null,
   "id": "58a429d4-4a31-443d-96de-7a90defa908d",
   "metadata": {},
   "outputs": [],
   "source": [
    "# 6.2. Check for invalid geometries:\n",
    "invalid_geom = wind_turbines_4326[\n",
    "    wind_turbines_4326.geometry.is_empty | wind_turbines_4326.geometry.isna()]\n",
    "\n",
    "print(f\"Invalid geometries: {len(invalid_geom)}\")\n",
    "invalid_geom[['Site Name', 'geometry']]"
   ]
  },
  {
   "cell_type": "code",
   "execution_count": null,
   "id": "d15ced15-7ae9-4e35-adbb-b1126fa9e89d",
   "metadata": {},
   "outputs": [],
   "source": [
    "# 6.3. Filter out invalid geometries and coordinates:\n",
    "wind_turbines_4326 = wind_turbines_4326[\n",
    "    wind_turbines_4326.geometry.notnull() &\n",
    "    wind_turbines_4326.geometry.is_valid &\n",
    "    wind_turbines_4326.geometry.apply(lambda geom: geom.is_empty == False) &\n",
    "    wind_turbines_4326.geometry.apply(lambda geom: geom.x != float(\"inf\") and geom.y != float(\"inf\"))]"
   ]
  },
  {
   "cell_type": "markdown",
   "id": "2f698f41-53b4-4347-b371-ac8decb22f0b",
   "metadata": {},
   "source": [
    "Now that the data is fully cleaned and compatible with Folium, we will save a copy of the data to GeoJSON format to ensure compatibility with the Folium Search plugin. This will allow map users to search the map based on any keyword from the dataset."
   ]
  },
  {
   "cell_type": "code",
   "execution_count": null,
   "id": "48d1f512-323d-4314-8faa-a645bb21b8d9",
   "metadata": {},
   "outputs": [],
   "source": [
    "# Save cleaned-up GeoDataBase as geopackage (to preserve column name lengths):\n",
    "wind_turbines_4326.to_file('turbines_shp.gpkg', driver='GPKG')\n",
    "\n",
    "# Save GeoJSON copy for compatibility with search plugin.\n",
    "\n",
    "# First we will combine all fields into a new column which will be used in the search function. \n",
    "# This will allow search based on any column in the dataset rather than limit to a specific column:\n",
    "wind_turbines_4326['search_all'] = wind_turbines_4326.apply(\n",
    "    lambda row: \" | \".join([str(val) for val in row.values]), axis=1)\n",
    "\n",
    "wind_turbines_4326.to_file('turbines_json.geojson', driver='GeoJSON')"
   ]
  },
  {
   "cell_type": "markdown",
   "id": "e4041133-768f-4e25-9810-bc5578a3f423",
   "metadata": {},
   "source": [
    "\n",
    "\n",
    "## Part 2: Making an Interactive Map\n",
    "\n",
    "First read in the newly saved files:"
   ]
  },
  {
   "cell_type": "code",
   "execution_count": null,
   "id": "abdf161f-2609-48c8-a7a4-89acb5ce51c1",
   "metadata": {},
   "outputs": [],
   "source": [
    "turbines_shp = gpd.read_file()\n",
    "turbines_json = gpd.read_file('../DataPrep/wind_turbines.geojson')"
   ]
  },
  {
   "cell_type": "markdown",
   "id": "07998a5f-2764-4441-a14a-1483720e0b2a",
   "metadata": {},
   "source": [
    "##### 1. Define Functions for use in map making steps:"
   ]
  },
  {
   "cell_type": "code",
   "execution_count": null,
   "id": "e518b95e-6141-4f28-b4bd-1a843ee17e27",
   "metadata": {
    "scrolled": true
   },
   "outputs": [],
   "source": [
    "# Define functions for later use\n",
    "\n",
    "# modify pop-up settings to only show relevant information, i.e. if N/A, dont show\n",
    "# but only for columns related to planning process i.e. from planning application withdrawn column to operational column (last column)\n",
    "# Function to create conditional popups, excluding N/A values for columns 15+ \n",
    "#(columns covering different stages in planning process, info unneccessary for all)\n",
    "def conditional_popups(gdf):\n",
    "    \"\"\"\n",
    "    Returns a list of popup HTML strings for all rows in a GeoDataFrame.\n",
    "    \"\"\"\n",
    "    popups = []\n",
    "    for _, row in gdf.iterrows():\n",
    "        popup_cond = []\n",
    "\n",
    "        for column in row.index[:16]:\n",
    "            popup_cond.append(f\"<b>{column}:</b> {row[column]}\")\n",
    "\n",
    "        for column in row.index[16:]:\n",
    "            value = str(row[column])\n",
    "            if value != 'N/A':\n",
    "                popup_cond.append(f\"<b>{column}:</b> {value}\")\n",
    "\n",
    "        popups.append(\"<br>\".join(popup_cond))\n",
    "    return popups\n",
    "\n",
    "# Function to assign marker radius based on turbine height bins\n",
    "def marker_radius(height):\n",
    "    try:\n",
    "        height = float(height)\n",
    "        if height < 50:\n",
    "            return 4\n",
    "        elif height < 100:\n",
    "            return 7\n",
    "        elif height < 150:\n",
    "            return 10\n",
    "        else:\n",
    "            return 13\n",
    "    except:\n",
    "        return 2  # default if missing/invalid\n",
    "\n",
    "# Function to assign marker colour based on a specific column\n",
    "def marker_colour(gdf, column_name):\n",
    "    \"\"\"\n",
    "    Generate a dictionary of colors for each unique category in a given column.\n",
    "    \"\"\"\n",
    "    unique_values = gdf[column_name].dropna().unique()\n",
    "    n = len(unique_values)\n",
    "\n",
    "    # Use a colormap from matplotlib\n",
    "    cmap = colormaps.get_cmap('tab20').resampled(n)\n",
    "    colors = [mcolors.to_hex(cmap(i)) for i in range(n)]\n",
    "\n",
    "    # Map each unique category to a color\n",
    "    return dict(zip(unique_values, colors))\n",
    "\n",
    "# Define a legend function based on the colours and sizes defined previously\n",
    "def add_legend(map, colour_dict):\n",
    "    \"\"\"\n",
    "    Add a custom HTML legend to the map, including both color and size information.\n",
    "    \"\"\"\n",
    "    size_dict = {\n",
    "        '0-50 meters': 4,\n",
    "        '50-100 meters': 7,\n",
    "        '100-150 meters': 10,\n",
    "        '150+ meters': 13\n",
    "    }\n",
    "\n",
    "    # Start building the legend HTML\n",
    "    legend_html = '''\n",
    "        <div style=\"position: fixed; \n",
    "                    bottom: 50px; left: 50px; width: 250px; height: auto; \n",
    "                    border:2px solid grey; z-index:9999; font-size:14px; \n",
    "                    background-color: white; opacity: 0.7; padding: 10px;\">\n",
    "                    <b>Wind Turbine Legend</b><br>\n",
    "                    <b>Development Status (Short)</b><br>\n",
    "    '''\n",
    "    \n",
    "    # Add each category and its color to the legend\n",
    "    for category, color in colour_dict.items():\n",
    "        legend_html += f'<i style=\"background: {color}; width: 20px; height: 20px; display: inline-block; margin-right: 8px;\"></i>{category}<br>'\n",
    "    \n",
    "    # Add turbine height sizing information to the legend\n",
    "    legend_html += '<br><b>Turbine Height (m)</b><br>'\n",
    "    for height_range, radius in size_dict.items():\n",
    "        # Add circular markers in the legend that match the size of the radius\n",
    "        legend_html += f'<i style=\"background: gray; border-radius: 50%; width: {radius * 2}px; height: {radius * 2}px; display: inline-block; margin-right: 8px;\"></i>{height_range}<br>'\n",
    "  \n",
    "    legend_html += '</div>'\n",
    "    \n",
    "    # Add the legend to the map as a popup\n",
    "    map.get_root().html.add_child(folium.Element(legend_html))"
   ]
  },
  {
   "cell_type": "code",
   "execution_count": null,
   "id": "857b341d-048c-401b-8db2-f39bc00c1f0c",
   "metadata": {},
   "outputs": [],
   "source": [
    "# Get the list of columns with their index numbers\n",
    "index_columns = [(index, column) for index, column in enumerate(wind_turbines.columns)]\n",
    "\n",
    "# Print the list\n",
    "for index, column in index_columns:\n",
    "    print(f\"{index}: {column}\")\n"
   ]
  },
  {
   "cell_type": "code",
   "execution_count": null,
   "id": "162c805e-5103-4fb0-82b3-39a05926cee0",
   "metadata": {},
   "outputs": [],
   "source": [
    "unique_values = list(wind_turbines[\"Development Status (short)\"].dropna().unique())\n",
    "unique_values"
   ]
  },
  {
   "cell_type": "code",
   "execution_count": null,
   "id": "3a708edb-92d4-45a0-a756-d937e0343626",
   "metadata": {},
   "outputs": [],
   "source": [
    "# add additional raster and vector data for viewing context"
   ]
  },
  {
   "cell_type": "code",
   "execution_count": null,
   "id": "24da8aee-3083-4b14-81fe-66e84802f8e4",
   "metadata": {},
   "outputs": [],
   "source": [
    "#TEST\n",
    "# Create the map centered around the turbines' mean coordinates\n",
    "m = folium.Map(location=[\n",
    "    wind_turbines.geometry.y.mean(),\n",
    "    wind_turbines.geometry.x.mean()\n",
    "], zoom_start=6)\n",
    "\n",
    "# Generate color mapping based on 'Development Status (short)' column\n",
    "colours = marker_colour(wind_turbines, 'Development Status (short)')\n",
    "\n",
    "# Add CircleMarkers for wind turbines\n",
    "for i, (idx, row) in enumerate(wind_turbines.iterrows()):\n",
    "    popup_html = f\"<b>{row['Site Name']}</b><br><b>Status:</b> {row['Development Status (short)']}\"\n",
    "    status = row['Development Status (short)']\n",
    "    color = colours.get(status, 'black')\n",
    "    radius = 2  # Default radius if not specified\n",
    "\n",
    "    if pd.notna(row.geometry.y) and pd.notna(row.geometry.x):\n",
    "        folium.CircleMarker(\n",
    "            location=[row.geometry.y, row.geometry.x],\n",
    "            radius=radius,\n",
    "            color=color,\n",
    "            fill=True,\n",
    "            fill_color=color,\n",
    "            fill_opacity=0.8,\n",
    "            popup=folium.Popup(popup_html, max_width=300)\n",
    "        ).add_to(m)\n",
    "\n",
    "# Create GeoJSON layer for wind turbines (only used for search functionality)\n",
    "geojson_layer = folium.GeoJson(\n",
    "    wind_turbines,  # Directly use the GeoDataFrame\n",
    "    style_function=lambda feature: {\n",
    "        \"color\": \"transparent\",  # Make the border fully transparent\n",
    "        \"fillColor\": \"transparent\",  # Make the fill fully transparent\n",
    "        \"fillOpacity\": 0,  # Ensure it is fully transparent\n",
    "        \"opacity\": 0  # Ensure it is fully transparent\n",
    "    },\n",
    "    control=False,  # Don't include this in the LayerControl\n",
    "    visible=False  # Ensure it's not visible on the map\n",
    ").add_to(m)\n",
    "\n",
    "# Add Search plugin for the GeoJSON layer (for search functionality only)\n",
    "search = Search(\n",
    "    layer=geojson_layer,  # Pass the invisible GeoJSON layer to the search function\n",
    "    geom_type=\"Point\",\n",
    "    search_label=\"search_all\",  # Use the combined column for search\n",
    "    placeholder=\"Search anything...\",\n",
    "    collapsed=False\n",
    ").add_to(m)\n",
    "\n",
    "# Add satellite basemap\n",
    "folium.TileLayer(\n",
    "    tiles='https://server.arcgisonline.com/ArcGIS/rest/services/World_Imagery/MapServer/tile/{z}/{y}/{x}',\n",
    "    attr='Esri',\n",
    "    name='Esri Satellite',\n",
    "    overlay=True,\n",
    "    control=True  # Enable layer control for the satellite basemap\n",
    ").add_to(m)\n",
    "\n",
    "# Add Layer Control to allow users to toggle satellite layers\n",
    "folium.LayerControl().add_to(m)\n",
    "\n",
    "# Add the custom legend\n",
    "add_legend(m, colours)\n",
    "\n",
    "# Display the map\n",
    "m"
   ]
  },
  {
   "cell_type": "code",
   "execution_count": null,
   "id": "7167789a-53e3-4680-9f62-58b33c48eac6",
   "metadata": {},
   "outputs": [],
   "source": []
  }
 ],
 "metadata": {
  "kernelspec": {
   "display_name": "Python 3 (ipykernel)",
   "language": "python",
   "name": "python3"
  },
  "language_info": {
   "codemirror_mode": {
    "name": "ipython",
    "version": 3
   },
   "file_extension": ".py",
   "mimetype": "text/x-python",
   "name": "python",
   "nbconvert_exporter": "python",
   "pygments_lexer": "ipython3",
   "version": "3.13.3"
  }
 },
 "nbformat": 4,
 "nbformat_minor": 5
}
