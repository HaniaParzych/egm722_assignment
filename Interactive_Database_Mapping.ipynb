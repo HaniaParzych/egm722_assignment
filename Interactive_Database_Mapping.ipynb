{
 "cells": [
  {
   "cell_type": "markdown",
   "id": "fc154ec5-3c75-498c-ac47-1d4e308231e0",
   "metadata": {},
   "source": [
    "# Interactive Database Mapping #\n",
    "\n",
    "This Notebook contains a code to create an interactive and searchable map database of onshore wind turbine projects across the UK. \n",
    "\n",
    "The Notebook is split into two main sections:\n",
    "- Part 1: Data Preparation\n",
    "- Part 2: Making an Interactive Map"
   ]
  },
  {
   "cell_type": "markdown",
   "id": "32baf662-d0d1-496f-8145-220cc8df5925",
   "metadata": {},
   "source": [
    "## Part 1: Data Preparation ##\n",
    "\n",
    "We will begin by importing the neccessary packages for the analysis and map making:"
   ]
  },
  {
   "cell_type": "code",
   "execution_count": null,
   "id": "0acba6ec-3bfa-4cff-be60-532720de10ee",
   "metadata": {},
   "outputs": [],
   "source": [
    "import os\n",
    "import datetime\n",
    "import pandas as pd\n",
    "import geopandas as gpd\n",
    "import numpy as np\n",
    "import folium\n",
    "from folium.plugins import Search\n",
    "import requests\n",
    "import webbrowser"
   ]
  },
  {
   "cell_type": "markdown",
   "id": "09ff098e-256e-4d30-a7c4-5263168610c3",
   "metadata": {},
   "source": [
    "#### Clean the raw data to prepare for map making: ####"
   ]
  },
  {
   "cell_type": "markdown",
   "id": "f1fdbfc6-9549-4c6a-b90d-52e83ec39d19",
   "metadata": {},
   "source": [
    "##### 1. Load in the Rewnewable Energy Planning Database (REPD) quarterly extract for January 2025*: \n",
    "\n",
    "The data is currently in csv format.\n",
    "\n",
    "*Note: As long as the data columns are the same, the following code should be compatible with future quarterly extracts, allowing maintainance of the database."
   ]
  },
  {
   "cell_type": "code",
   "execution_count": null,
   "id": "acdf96c2-ee57-4fff-b874-6b970a7d8eb9",
   "metadata": {},
   "outputs": [],
   "source": [
    "# Load with cp1252 to avoid Unicode error as file is not in UTF-8 encoding.\n",
    "repd_data = pd.read_csv('Data/repd-q4-jan-2025.csv', encoding='cp1252')\n",
    "\n",
    "# Then normalize any weird characters to ensure file reads correctly.\n",
    "repd_data = repd_data.map(lambda x: x.replace('\\xa0', ' ') if isinstance(x, str) else x)\n",
    "\n",
    "repd_data.head() # Show raw data to get familiar with the content."
   ]
  },
  {
   "cell_type": "markdown",
   "id": "a0b1f130-dac5-4e3d-91e3-f8dd8aab34e8",
   "metadata": {},
   "source": [
    "##### 2. Filter the REPD dataset to focus only on onshore wind turbine projects: #####"
   ]
  },
  {
   "cell_type": "code",
   "execution_count": null,
   "id": "87c1325a-8299-4942-bf4c-524b890e4387",
   "metadata": {},
   "outputs": [],
   "source": [
    "repd_data = repd_data[repd_data['Technology Type'] == 'Wind Onshore']"
   ]
  },
  {
   "cell_type": "markdown",
   "id": "2a04675d-e7d2-497d-bb5b-01b97b7e443f",
   "metadata": {},
   "source": [
    "##### 3. Filter out any unneccessary data columns: ##### \n",
    "(e.g. data related to other technologies such as solar, reference numbers used only by REPD data, etc..)"
   ]
  },
  {
   "cell_type": "code",
   "execution_count": null,
   "id": "38da9f25-71e4-46b0-8547-7e80a84d9faf",
   "metadata": {},
   "outputs": [],
   "source": [
    "# 3.1. First get a list of all the available data columns and their indices to help identify useful information:\n",
    "index_columns = [(index, column) for index, column in enumerate(repd_data.columns)]\n",
    "\n",
    "# Print the list\n",
    "for index, column in index_columns:\n",
    "    print(f\"{index}: {column}\")"
   ]
  },
  {
   "cell_type": "code",
   "execution_count": null,
   "id": "29ae3b42-8807-4303-9257-47fe093ce167",
   "metadata": {},
   "outputs": [],
   "source": [
    "# 3.2. Now filter the columns by dropping irrelevant columns by name:\n",
    "repd_wind = repd_data.drop(columns=['Old Ref ID', 'Ref ID', 'Technology Type', \n",
    "                                    'Storage Type', 'CHP Enabled', 'Storage Co-location REPD Ref ID', \n",
    "                                    'Share Community Scheme', 'CfD Allocation Round', 'RO Banding (ROC/MWh)', \n",
    "                                    'CfD Capacity (MW)', 'Mounting Type for Solar', 'Are they re-applying (New REPD Ref)', \n",
    "                                    'Are they re-applying (Old REPD Ref) ', 'Development Status', 'Offshore Wind Round', \n",
    "                                    'Heat Network Ref', 'Solar Site Area (sqm)'])\n",
    "\n",
    "repd_wind.head() # View updated repd_wind dataset"
   ]
  },
  {
   "cell_type": "markdown",
   "id": "1ea7b404-5f7b-4e5e-8912-4c8dc9f0467c",
   "metadata": {},
   "source": [
    "##### 4. Perform checks and cleaning operations on the remaining data to ensure full compatibility with folium mapping: #####"
   ]
  },
  {
   "cell_type": "code",
   "execution_count": null,
   "id": "8d28d115-b9e3-4591-ac13-c3e0b870bd05",
   "metadata": {},
   "outputs": [],
   "source": [
    "# 4.1. Check for suspicious characters in remaining columns which may stop the map from generating correctly:\n",
    "for col in repd_wind.columns:\n",
    "    if repd_wind[col].dtype == object: # check columns of type object\n",
    "        if repd_wind[col].str.contains(r'\\\\[0-9]').any(): # Search for suspicious escape sequences like \"\\1\", \"\\n\", \"\\t\", etc.\n",
    "                                                          # These can cause errors or render incorrectly in HTML popups.\n",
    "            print(f\"Suspicious escape sequence in column: {col}\")"
   ]
  },
  {
   "cell_type": "code",
   "execution_count": null,
   "id": "5a45270a-bdac-4870-8ca9-ef6cac36330d",
   "metadata": {},
   "outputs": [],
   "source": [
    "# 4.1.2. Fix suspicious characters by escaping backslashes in all string/object columns:\n",
    "for col in repd_wind.select_dtypes(include='object').columns:\n",
    "    repd_wind[col] = repd_wind[col].str.replace(r'\\\\', r'\\\\\\\\', regex=True) # replace single backslashes with double backslashes, \n",
    "                                                                            # which prevents Python from interpreting them as escape sequences."
   ]
  },
  {
   "cell_type": "code",
   "execution_count": null,
   "id": "1f6f1cf4-002b-48db-bd21-06918c721495",
   "metadata": {},
   "outputs": [],
   "source": [
    "# 4.2. Check for non-numeric entries in the coordinate columns and drop these data rows:\n",
    "non_numeric_x = repd_wind[~repd_wind['X-coordinate'].apply(pd.to_numeric, errors='coerce').notnull()]\n",
    "non_numeric_y = repd_wind[~repd_wind['Y-coordinate'].apply(pd.to_numeric, errors='coerce').notnull()]\n",
    "\n",
    "# Display rows with non-numeric coordinates\n",
    "print(\"Non-numeric X-coordinates:\")\n",
    "print(non_numeric_x[['X-coordinate', 'Y-coordinate']])\n",
    "\n",
    "print(\"Non-numeric Y-coordinates:\")\n",
    "print(non_numeric_y[['X-coordinate', 'Y-coordinate']])\n",
    "\n",
    "# Drop rows with non-numeric coordinates\n",
    "repd_wind = repd_wind.dropna(subset=['X-coordinate', 'Y-coordinate'])"
   ]
  },
  {
   "cell_type": "markdown",
   "id": "ba7b2e7d-e1aa-4681-817c-ee0ac9abafa2",
   "metadata": {},
   "source": [
    "##### 5. Convert the tabular data into a GeoDataFrame using the 'X-coordinate' and 'Y-coordinate' columns:"
   ]
  },
  {
   "cell_type": "code",
   "execution_count": null,
   "id": "2fdd7ff1-028d-437a-9aed-da7df5edbce3",
   "metadata": {},
   "outputs": [],
   "source": [
    "# Create the GeoDataFrame\n",
    "wind_turbines_27700 = gpd.GeoDataFrame(repd_wind,\n",
    "    geometry=gpd.points_from_xy(repd_wind['X-coordinate'], repd_wind['Y-coordinate']), # Create geometry from X, Y coordinate columns\n",
    "    crs='epsg:27700') # Set ESPG to British National Grid\n",
    "\n",
    "wind_turbines_27700.head() # Check if successful"
   ]
  },
  {
   "cell_type": "markdown",
   "id": "d1ee0117-0ba8-4442-9cca-b82c999deecd",
   "metadata": {},
   "source": [
    "Folium is most compatible with geographic coordinate systems, such as WGS 84 (epsg:4326). We will make a copy of the GeoDataFrame with WGS 84 coordinates for use in the folium map. \n",
    "We will also keep a copy with the British National Grid coordinates as this would be more useful for precise measurements of distances or any other analyses of interest."
   ]
  },
  {
   "cell_type": "code",
   "execution_count": null,
   "id": "bdac566e-4c7c-4324-84a9-e434b885c9df",
   "metadata": {},
   "outputs": [],
   "source": [
    "# Make a copy of the GeoDataFrame with WGS 84:\n",
    "wind_turbines = wind_turbines_27700.to_crs(epsg=4326)\n",
    "print(wind_turbines.crs) # Check if successful\n",
    "\n",
    "# Drop the now unneccessary coordinate columns:\n",
    "wind_turbines = wind_turbines.drop(columns=['X-coordinate', 'Y-coordinate'])"
   ]
  },
  {
   "cell_type": "markdown",
   "id": "f07a94ce-b060-4e77-89bd-a9f5e4a58bb2",
   "metadata": {},
   "source": [
    "For the purposes of the interactive database, it may be more useful to replace NaN values with N/A values to signify to the user that this information is not available from the REPD dataset, but may be available elsewhere."
   ]
  },
  {
   "cell_type": "code",
   "execution_count": null,
   "id": "5af1f158-1aee-4606-b27b-78f168e1f3b6",
   "metadata": {},
   "outputs": [],
   "source": [
    "# Change NaN values for string columns to string N/A values:\n",
    "str_columns = wind_turbines.select_dtypes(include=['object'])\n",
    "\n",
    "# Fill NaN values in string columns with 'N/A'\n",
    "wind_turbines[str_columns.columns] = str_columns.fillna('N/A')\n",
    "wind_turbines"
   ]
  },
  {
   "cell_type": "markdown",
   "id": "2a7f52d9-c368-4ad5-a309-0a51f8e47b45",
   "metadata": {},
   "source": [
    "##### 6. Perform last checks for invalid coordinates and invalid geometries, and drop any invalid results:"
   ]
  },
  {
   "cell_type": "code",
   "execution_count": null,
   "id": "f7fcca91-e172-4730-bf14-3b6e14b9c8fb",
   "metadata": {},
   "outputs": [],
   "source": [
    "# 6.1. Check for any data outside valid longitude (-180 to 180) or latitude (-90 to 90):\n",
    "invalid_coords = wind_turbines[\n",
    "    (wind_turbines.geometry.x < -180) |\n",
    "    (wind_turbines.geometry.x > 180) |\n",
    "    (wind_turbines.geometry.y < -90) |\n",
    "    (wind_turbines.geometry.y > 90)]\n",
    "\n",
    "print(f\"Out-of-bounds coordinates: {len(invalid_coords)}\")\n",
    "invalid_coords[['Site Name', 'geometry']]"
   ]
  },
  {
   "cell_type": "code",
   "execution_count": null,
   "id": "58a429d4-4a31-443d-96de-7a90defa908d",
   "metadata": {},
   "outputs": [],
   "source": [
    "# 6.2. Check for invalid geometries:\n",
    "invalid_geom = wind_turbines[\n",
    "    wind_turbines.geometry.is_empty | wind_turbines.geometry.isna()]\n",
    "\n",
    "print(f\"Invalid geometries: {len(invalid_geom)}\")\n",
    "invalid_geom[['Site Name', 'geometry']]"
   ]
  },
  {
   "cell_type": "code",
   "execution_count": null,
   "id": "d15ced15-7ae9-4e35-adbb-b1126fa9e89d",
   "metadata": {},
   "outputs": [],
   "source": [
    "# 6.3. Filter out invalid geometries and coordinates:\n",
    "wind_turbines = wind_turbines[\n",
    "    wind_turbines.geometry.notnull() &\n",
    "    wind_turbines.geometry.is_valid &\n",
    "    wind_turbines.geometry.apply(lambda geom: geom.is_empty == False) &\n",
    "    wind_turbines.geometry.apply(lambda geom: geom.x != float(\"inf\") and geom.y != float(\"inf\"))]"
   ]
  },
  {
   "cell_type": "code",
   "execution_count": null,
   "id": "c49ca379-6a37-4178-81fa-5cfbd97af4ae",
   "metadata": {},
   "outputs": [],
   "source": [
    "# Create a new column with nicely formatted coordinates for use in folium map popups:\n",
    "wind_turbines['Coordinates'] = wind_turbines.geometry.apply(lambda geom: f\"{geom.y:.5f}, {geom.x:.5f}\")"
   ]
  },
  {
   "cell_type": "markdown",
   "id": "2f698f41-53b4-4347-b371-ac8decb22f0b",
   "metadata": {},
   "source": [
    "Now that the data is fully cleaned and compatible with Folium, create an additional column, with all data combined for use in search function. This will allow map users to search the map based on any keyword from the dataset."
   ]
  },
  {
   "cell_type": "code",
   "execution_count": null,
   "id": "48d1f512-323d-4314-8faa-a645bb21b8d9",
   "metadata": {},
   "outputs": [],
   "source": [
    "# Combine all fields into a new column which will be used in the search function:\n",
    "wind_turbines['search_all'] = wind_turbines.apply(\n",
    "    lambda row: \" | \".join([str(val) for val in row.values]), axis=1)\n",
    "\n",
    "# Check if successful\n",
    "wind_turbines"
   ]
  },
  {
   "cell_type": "markdown",
   "id": "e4041133-768f-4e25-9810-bc5578a3f423",
   "metadata": {},
   "source": [
    "\n",
    "\n",
    "## Part 2: Making an Interactive Map\n",
    "\n",
    "##### 1. Define Functions for use in map making steps\n",
    "\n",
    "1.1. Functions for marker radius and marker colour assignment:"
   ]
  },
  {
   "cell_type": "code",
   "execution_count": null,
   "id": "ffb8c8e2-3e2b-4546-b58b-9f5358b8943f",
   "metadata": {},
   "outputs": [],
   "source": [
    "# Function to assign a radius to each marker based on turbine height\n",
    "\n",
    "def marker_radius(height):\n",
    "    \"\"\"\n",
    "    Assigns marker radius for CircleMarker based on turbine height.\n",
    "\n",
    "    Inputs:\n",
    "        height (float or str): Height of turbine (m). If invalid or missing, default is used.\n",
    "\n",
    "    Outputs:\n",
    "        radius (int): Circle marker size in pixels.\n",
    "    \n",
    "    Rules:\n",
    "        - <50m: 6px\n",
    "        - 50–100m: 8px\n",
    "        - 100–150m: 10px\n",
    "        - >150m: 12px\n",
    "        - N/A or invalid: 2px (default)\n",
    "    \"\"\"\n",
    "    try:\n",
    "        height = float(height)\n",
    "        if height < 50: # under 50m return radius 6\n",
    "            return 6\n",
    "        elif height < 100: # 50-100m return radius 8\n",
    "            return 8\n",
    "        elif height < 150: # 100-150m return radius 10\n",
    "            return 10\n",
    "        else:\n",
    "            return 12 # 150m+ return radius 12\n",
    "    except:\n",
    "        return 2  # default if missing/invalid height\n",
    "\n",
    "# ---------------------------------------------------------------------------------------------------------------------\n",
    "\n",
    "# Function to define colours of markers for each stage in the planning process\n",
    "\n",
    "def marker_colour(gdf, column_name):\n",
    "    \"\"\"\n",
    "    Assigns fixed, meaningful colours to markers depending on development status.\n",
    "\n",
    "    Inputs:\n",
    "        gdf (GeoDataFrame): DataFrame with status info.\n",
    "        column_name (str): Must be 'Development Status (short)'.\n",
    "\n",
    "    Outputs:\n",
    "        colour_dict (dict): Mapping of present statuses to hex colours.\n",
    "\n",
    "    Notes:\n",
    "        - If column_name is not 'Development Status (short)', raises ValueError.\n",
    "        - Only statuses present in the dataset are included in the output.\n",
    "    \"\"\"\n",
    "    if column_name != \"Development Status (short)\":\n",
    "        raise ValueError(\"This function only supports 'Development Status (short)'.\")\n",
    "\n",
    "    # Define logical order and fixed colours\n",
    "    status_colours = {\n",
    "        'Operational': '#39ff14',                  # neon green - accepted\n",
    "        'Under Construction': '#006400',           # dark green - in process\n",
    "        'Awaiting Construction': '#3cb371',        # medium green - in process\n",
    "        'Application Submitted': '#90ee90',        # light green - in planning process\n",
    "        'Appeal Lodged': '#ff7f0e',                # orange - in planning process\n",
    "        'Appeal Withdrawn': '#9467bd',             # violet - voluntary change in later stages\n",
    "        'Appeal Refused': '#8c564b',               # dark red - refused in later stages\n",
    "        'Application Refused': '#d62728',          # red - refused\n",
    "        'Application Withdrawn': '#e377c2',        # pink - voluntary change\n",
    "        'Planning Permission Expired': '#7f7f7f',  # grey - inactive\n",
    "        'Decommissioned': '#393b79',               # navy - no longer there\n",
    "        'Abandoned': '#636363',                    # dark grey - inactive\n",
    "        'Revised': '#c49c94',                      # beige - change in application\n",
    "        'No Application Required': '#9edae5'       # mint blue\n",
    "    }\n",
    "\n",
    "    # Filter to only those statuses present in the data\n",
    "    present_statuses = gdf[column_name].dropna().unique()\n",
    "    colour_dict = {status: colour for status, colour in status_colours.items() if status in present_statuses}\n",
    "    return colour_dict"
   ]
  },
  {
   "cell_type": "markdown",
   "id": "8039c510-6921-40ab-b0b2-548f4b2e018e",
   "metadata": {},
   "source": [
    "1.2. Function for conditional popups for turbine data"
   ]
  },
  {
   "cell_type": "code",
   "execution_count": null,
   "id": "244ec672-e54a-448f-98d4-cc8cab667535",
   "metadata": {},
   "outputs": [],
   "source": [
    "# Function to clean up popups, such that only available information appears for columns 16+ \n",
    "# covering the planning process stage which the application is in (unnecessary to include all info).\n",
    "\n",
    "def conditional_popups(gdf):\n",
    "    \"\"\"\n",
    "    Cleans up popups to only show relevant planning information for wind turbine applications.\n",
    "    \n",
    "    Inputs:\n",
    "        gdf (GeoDataFrame): A GeoDataFrame with full turbine metadata.\n",
    "\n",
    "    Outputs:\n",
    "        popups (list of str): List of HTML strings used as popups for each row.\n",
    "\n",
    "    Notes:\n",
    "        - Columns 0–15 are always included in the popup (basic turbine metadata).\n",
    "        - Columns 16–33 and 35 are included **only if value ≠ 'N/A'** (planning process details).\n",
    "        - Columns 'geometry' (index 34) and 'search_all' (index 36) are excluded entirely.\n",
    "    \"\"\"\n",
    "    popups = []\n",
    "\n",
    "    for _, row in gdf.iterrows():\n",
    "        popup_cond = []\n",
    "\n",
    "        # Always include first 16 columns (basic turbine info)\n",
    "        for column in row.index[:16]:\n",
    "            popup_cond.append(f\"<b>{column}:</b> {row[column]}\")\n",
    "\n",
    "        # Conditionally include planning-related columns (16–33 and 35)\n",
    "        for i in np.r_[16:34, 35]:\n",
    "            column = row.index[i]\n",
    "            value = str(row[column])\n",
    "            if value != 'N/A':\n",
    "                popup_cond.append(f\"<b>{column}:</b> {value}\")\n",
    "\n",
    "        # Join all lines into one HTML string per popup\n",
    "        popups.append(\"<br>\".join(popup_cond))\n",
    "\n",
    "    return popups\n"
   ]
  },
  {
   "cell_type": "markdown",
   "id": "9597aecd-12a4-45f5-9cc0-1a93f59463d2",
   "metadata": {},
   "source": [
    "1.3. Function to add a legend to the map"
   ]
  },
  {
   "cell_type": "code",
   "execution_count": null,
   "id": "ecc33004-8914-470a-84fc-38668344136a",
   "metadata": {},
   "outputs": [],
   "source": [
    "# Function to create a legend based on the colours and sizes defined in previous function\n",
    "\n",
    "def add_legend(map, colour_dict):\n",
    "    \"\"\"\n",
    "    Adds a custom HTML legend to a folium map, showing turbine height and development status.\n",
    "\n",
    "    Inputs:\n",
    "        map (folium.Map): The map object to add the legend to.\n",
    "        colour_dict (dict): Dictionary of status:colour, from marker_colour().\n",
    "\n",
    "    Outputs:\n",
    "        Adds HTML block to the map for display.\n",
    "\n",
    "    Notes:\n",
    "        - Height ranges are represented by varying circle sizes.\n",
    "        - Statuses are displayed with coloured squares.\n",
    "    \"\"\"\n",
    "    size_dict = { # specify labels and radius sizes to display in legend\n",
    "        '0-50 meters': 6, \n",
    "        '50-100 meters': 8,\n",
    "        '100-150 meters': 10,\n",
    "        '150+ meters': 12,\n",
    "        'undefined': 2\n",
    "    }\n",
    "\n",
    "    # Start building the legend HTML\n",
    "    legend_html = '''\n",
    "    <div style=\"position: fixed; \n",
    "            bottom: 0px; left: 0px; width: 200px; height: auto; \n",
    "            border:2px solid grey; z-index:9999; font-size:10px; \n",
    "            background-color: white; opacity: 0.8; padding: 5px;\">\n",
    "            <b>Wind Turbine Legend</b><br>\n",
    "            <b>Development Status</b><br>\n",
    "    '''\n",
    "    \n",
    "    # Add each category and its colour to the legend\n",
    "    for category, colour in colour_dict.items():\n",
    "        legend_html += f'<i style=\"background: {colour}; width: 15px; height: 15px; display: inline-block; margin-right: 8px;\"></i>{category}<br>'\n",
    "    \n",
    "    # Add turbine height sizing information to the legend\n",
    "    legend_html += '<br><b>Turbine Height (m)</b><br>'\n",
    "    for height_range, radius in size_dict.items():\n",
    "        # Add circular markers in the legend that match the size of the radius\n",
    "        legend_html += f'<i style=\"background: gray; border-radius: 50%; width: {radius * 2}px; height: {radius * 2}px; display: inline-block; margin-right: 8px;\"></i>{height_range}<br>'\n",
    "  \n",
    "    legend_html += '</div>'\n",
    "    \n",
    "    # Add the legend to the map as a popup\n",
    "    map.get_root().html.add_child(folium.Element(legend_html))"
   ]
  },
  {
   "cell_type": "markdown",
   "id": "86f0b6b5-6a48-4601-95a9-d46742fa6dc1",
   "metadata": {},
   "source": [
    "1.4. Functions to add overlay data to map from folder"
   ]
  },
  {
   "cell_type": "code",
   "execution_count": null,
   "id": "e518b95e-6141-4f28-b4bd-1a843ee17e27",
   "metadata": {
    "scrolled": true
   },
   "outputs": [],
   "source": [
    "# Function to open layers (for map overlays) from folder and add to map:\n",
    "\n",
    "def layers_from_folder(folder_path, map_object, default_color='gray'):\n",
    "    \"\"\"\n",
    "    Loads '.geojson' and '.shp' files from folder, assigns colours based on filename,\n",
    "    simplifies geometry, and adds them to the Folium map.\n",
    "\n",
    "    Inputs:\n",
    "        folder_path (str): Path to the folder containing spatial files.\n",
    "        map_object (folium.Map): The Folium map to which layers will be added.\n",
    "        default_color (str): Colour to assign to layers without a specific match.\n",
    "\n",
    "    Output:\n",
    "        Prints summary of added layers. Layers are added directly to the map object.\n",
    "    \"\"\"\n",
    "\n",
    "    def determine_colour(filename):\n",
    "        \"\"\"\n",
    "        Determines colour coding for each layer based on its filename.\n",
    "\n",
    "        Input:\n",
    "            filename (str): The name of the spatial file (e.g. .shp or .geojson).\n",
    "\n",
    "        Output:\n",
    "            colour (str): Colour assigned to the layer for display on the map.\n",
    "\n",
    "        Rules:\n",
    "            - Returns green for ecological/nature designations (e.g. AONB, National Parks, NNR, SAC, SPA)\n",
    "            - Returns blue for sites of scientific interest (e.g. SSSI, ASSI)\n",
    "            - Returns brown for archaeology/history designations (e.g. Scheduled Monuments)\n",
    "            - Returns the default colour (usually gray) for peatland or other unspecified layers\n",
    "        \"\"\"\n",
    "        fname = filename.lower()\n",
    "        if any(keyword in fname for keyword in ['aonb', 'national_parks', 'nnr', 'sac', 'spa']):\n",
    "            return 'green'  # return green for ecological/nature designations\n",
    "        elif any(keyword in fname for keyword in ['sssi', 'assi']):\n",
    "            return 'blue'   # return blue for sites of scientific interest\n",
    "        elif 'scheduled_monuments' in fname:\n",
    "            return 'brown'  # return brown for archaeology/history\n",
    "        elif 'peatland' in fname:\n",
    "            return default_color  # return default for peat/non-peat land\n",
    "        else:\n",
    "            return default_color\n",
    "\n",
    "    for file in os.listdir(folder_path):\n",
    "        if file.endswith(('.geojson', '.shp')):  # search for files ending in .geojson or .shp\n",
    "            filepath = os.path.join(folder_path, file)\n",
    "            try:\n",
    "                gdf = gpd.read_file(filepath)  # read file into GeoDataFrame\n",
    "\n",
    "                # Reproject to WGS84 for compatibility with Folium\n",
    "                if gdf.crs and gdf.crs.to_epsg() != 4326:\n",
    "                    gdf = gdf.to_crs(epsg=4326)\n",
    "\n",
    "                # Simplify geometries to reduce memory use (preserve topology)\n",
    "                gdf['geometry'] = gdf['geometry'].simplify(tolerance=0.01, preserve_topology=True)\n",
    "\n",
    "                layer_name = os.path.splitext(file)[0]  # name layer based on filename\n",
    "                color = determine_colour(file)           # assign colour based on filename\n",
    "                add_overlay_layer(gdf, layer_name, color=color, map_object=map_object)  # add to map\n",
    "\n",
    "                print(f\" Added: {layer_name} (color: {color})\")\n",
    "            except Exception as e:\n",
    "                print(f\" Failed to load {file}: {e}\")\n",
    "\n",
    "# ---------------------------------------------------------------------------------------------------------------------\n",
    "\n",
    "# Function to define display properties and add individual overlay layers to Folium map\n",
    "\n",
    "def add_overlay_layer(gdf, layer_name, color='green', map_object=None):\n",
    "    \"\"\"\n",
    "    Converts datetime-like and object-type columns to strings,\n",
    "    defines display properties for a GeoDataFrame layer,\n",
    "    and adds it to the Folium map with a tooltip showing all attributes.\n",
    "\n",
    "    Inputs:\n",
    "        gdf (GeoDataFrame): The spatial data to display as a map layer.\n",
    "        layer_name (str): Name for the layer in the Folium LayerControl.\n",
    "        color (str): Fill and border colour for the layer polygons or lines.\n",
    "        map_object (folium.Map): Folium map object to add the layer to.\n",
    "\n",
    "    Output:\n",
    "        layer (folium.FeatureGroup): The styled and tooltip-enabled layer added to the map.\n",
    "    \"\"\"\n",
    "\n",
    "    # Convert datetime-like or object-type columns to strings for JSON serialization\n",
    "    for col in gdf.columns:\n",
    "        if pd.api.types.is_datetime64_any_dtype(gdf[col]) or pd.api.types.is_object_dtype(gdf[col]):\n",
    "            if gdf[col].apply(lambda x: isinstance(x, pd.Timestamp)).any():\n",
    "                gdf[col] = gdf[col].astype(str)\n",
    "\n",
    "    # Create the Folium FeatureGroup (layer toggled off by default)\n",
    "    layer = folium.FeatureGroup(name=layer_name, show=False)\n",
    "\n",
    "    # Build the GeoJson layer with style and tooltip\n",
    "    geojson = folium.GeoJson(\n",
    "        gdf,\n",
    "        name=layer_name,\n",
    "        style_function=lambda x: {\n",
    "            'fillColor': color,\n",
    "            'color': color,\n",
    "            'weight': 2,\n",
    "            'fillOpacity': 0.5,\n",
    "        },\n",
    "        tooltip=folium.GeoJsonTooltip(\n",
    "            fields=[col for col in gdf.columns if col != 'geometry'],  # include all non-geometry fields\n",
    "            aliases=[f\"{col}:\" for col in gdf.columns if col != 'geometry'],\n",
    "            sticky=True  # tooltip follows mouse pointer\n",
    "        )\n",
    "    )\n",
    "\n",
    "    layer.add_child(geojson)  # attach GeoJson to layer\n",
    "    if map_object:\n",
    "        layer.add_to(map_object)  # add layer to map\n",
    "\n",
    "    return layer"
   ]
  },
  {
   "cell_type": "markdown",
   "id": "fc804b40-1023-42c8-b17f-6110a0e19320",
   "metadata": {},
   "source": [
    "##### 2. Create Folium Map\n",
    "\n",
    "Create map centred on turbines' mean coordinates:"
   ]
  },
  {
   "cell_type": "code",
   "execution_count": null,
   "id": "c866548c-2442-4c02-a90c-0403d14fe3af",
   "metadata": {},
   "outputs": [],
   "source": [
    "m = folium.Map(\n",
    "    location=[wind_turbines.geometry.y.mean(), wind_turbines.geometry.x.mean()],\n",
    "    zoom_start=6,\n",
    "    width='100%',  # Full width and height\n",
    "    height='100%')"
   ]
  },
  {
   "cell_type": "markdown",
   "id": "d6284751-de1f-49f5-b1de-6e671d740765",
   "metadata": {},
   "source": [
    "Generate marker colours and popups for turbines dataset and add to map:"
   ]
  },
  {
   "cell_type": "code",
   "execution_count": null,
   "id": "fe72d876-7862-4b28-978d-641f51653420",
   "metadata": {},
   "outputs": [],
   "source": [
    "# Generate colours and popups:\n",
    "colours = marker_colour(wind_turbines, 'Development Status (short)') \n",
    "popups = conditional_popups(wind_turbines)\n",
    "\n",
    "# Add wind turbine markers with conditional popups to map object:\n",
    "for i, (idx, row) in enumerate(wind_turbines.iterrows()):\n",
    "    status = row['Development Status (short)']\n",
    "    color = colours.get(status, 'black')\n",
    "    radius = marker_radius(row['Height of Turbines (m)']) \n",
    "    if pd.notna(row.geometry.y) and pd.notna(row.geometry.x):\n",
    "        folium.CircleMarker(\n",
    "            location=[row.geometry.y, row.geometry.x],\n",
    "            radius=radius,\n",
    "            color=color,\n",
    "            fill=True,\n",
    "            fill_color=color,\n",
    "            fill_opacity=0.8,\n",
    "            popup=folium.Popup(popups[i], max_width=300)\n",
    "        ).add_to(m)"
   ]
  },
  {
   "cell_type": "markdown",
   "id": "f23cb0bb-db5d-491b-b867-58dcb1f98b93",
   "metadata": {},
   "source": [
    "Create search group, invisible markers, and add search control to map. Markers are only added to ensure the search tool works, but will not be visible on the folium map as another layer."
   ]
  },
  {
   "cell_type": "code",
   "execution_count": null,
   "id": "24da8aee-3083-4b14-81fe-66e84802f8e4",
   "metadata": {},
   "outputs": [],
   "source": [
    "# Invisible Search Layer\n",
    "search_group = folium.FeatureGroup(show=False, control=False)\n",
    "\n",
    "# Add invisible markers for search only\n",
    "for idx, row in wind_turbines.iterrows():\n",
    "    folium.CircleMarker(\n",
    "        location=[row.geometry.y, row.geometry.x],\n",
    "        radius=0.01,\n",
    "        color='transparent',\n",
    "        fill_color='transparent',\n",
    "        fill_opacity=0\n",
    "    ).add_to(search_group)\n",
    "\n",
    "search_group.add_to(m)\n",
    "\n",
    "# Add the Search control\n",
    "search = Search(\n",
    "    layer=search_group,\n",
    "    search_label='search_all',\n",
    "    placeholder='Search...',\n",
    "    collapsed=False\n",
    ").add_to(m)"
   ]
  },
  {
   "cell_type": "markdown",
   "id": "4ad1f72d-cb2a-44f9-bfc9-54ecd9094a70",
   "metadata": {},
   "source": [
    "Add basemaps to the map as tile overlays from ArcGIS.\n",
    "\n",
    "Note: if ArcGIS server happens to be down for maintainance or due to unexpected issues, this will not work."
   ]
  },
  {
   "cell_type": "code",
   "execution_count": null,
   "id": "360e51dc-c47a-4ca1-a624-a2b3ff31b088",
   "metadata": {},
   "outputs": [],
   "source": [
    "# Add a topography basemap\n",
    "folium.TileLayer(\n",
    "    # URL to map server\n",
    "    tiles='https://server.arcgisonline.com/ArcGIS/rest/services/World_Topo_Map/MapServer/tile/{z}/{y}/{x}', \n",
    "    attr='Esri',\n",
    "    name='Esri Topographic', # Layer name for layer control panel on map\n",
    "    overlay=True,\n",
    "    control=True # enables users to control whether layer is visible or not\n",
    ").add_to(m)\n",
    "\n",
    "# Add satellite basemap\n",
    "folium.TileLayer(\n",
    "    tiles='https://server.arcgisonline.com/ArcGIS/rest/services/World_Imagery/MapServer/tile/{z}/{y}/{x}',\n",
    "    attr='Esri',\n",
    "    name='Esri Satellite',\n",
    "    overlay=True,\n",
    "    control=True\n",
    ").add_to(m)"
   ]
  },
  {
   "cell_type": "markdown",
   "id": "ae0e3875-1927-4ed2-94f0-7da6ca787f6d",
   "metadata": {},
   "source": [
    "Call on previously defined 'layers_from_folder' function to add other overlays to the map:"
   ]
  },
  {
   "cell_type": "code",
   "execution_count": null,
   "id": "70565069-d505-4021-a843-8dd324848bce",
   "metadata": {},
   "outputs": [],
   "source": [
    "# Load and add additional layers from 'Data' folder provided\n",
    "layers_from_folder('Data', m, default_color='gray')"
   ]
  },
  {
   "cell_type": "markdown",
   "id": "aa93b2b3-f6f9-4d37-a949-40db82a5f02e",
   "metadata": {},
   "source": [
    "Finally, add layer conrol, legend, and view map:\n",
    "\n",
    "Note: uncomment 'm.save()' and 'webbrowser.open_new_tab()' to save the map hmtl and/or open it in a seperate browser tab."
   ]
  },
  {
   "cell_type": "code",
   "execution_count": null,
   "id": "c3b05ee5-60fd-47a4-81cc-37c10d2ec313",
   "metadata": {},
   "outputs": [],
   "source": [
    "# Add layer control and legend\n",
    "folium.LayerControl().add_to(m)\n",
    "add_legend(m, colours) # call on previously defined legend function to add to map\n",
    "\n",
    "# Save the map to a HTML file\n",
    "# m.save('my_map.html')\n",
    "\n",
    "# Open in new browser tab\n",
    "# webbrowser.open_new_tab('my_map.html')\n",
    "\n",
    "# View map in Jupyter notebook:\n",
    "m"
   ]
  }
 ],
 "metadata": {
  "kernelspec": {
   "display_name": "Python 3 (ipykernel)",
   "language": "python",
   "name": "python3"
  },
  "language_info": {
   "codemirror_mode": {
    "name": "ipython",
    "version": 3
   },
   "file_extension": ".py",
   "mimetype": "text/x-python",
   "name": "python",
   "nbconvert_exporter": "python",
   "pygments_lexer": "ipython3",
   "version": "3.13.3"
  }
 },
 "nbformat": 4,
 "nbformat_minor": 5
}
