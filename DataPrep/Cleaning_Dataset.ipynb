{
 "cells": [
  {
   "cell_type": "markdown",
   "id": "6d7fcd6d-3fb0-414f-a730-764313532660",
   "metadata": {},
   "source": [
    "The dataset must first be 'cleaned up' to only include elements of interest. But first import the necessary packages:"
   ]
  },
  {
   "cell_type": "code",
   "execution_count": null,
   "id": "c7a0f475-4596-4fc7-84e9-2e9696866c46",
   "metadata": {},
   "outputs": [],
   "source": [
    "import pandas as pd\n",
    "import geopandas as gpd\n",
    "import folium\n",
    "import ipyleaflet"
   ]
  },
  {
   "cell_type": "markdown",
   "id": "4d3e5651-5d55-4592-8e46-291d21dde8e0",
   "metadata": {},
   "source": [
    "Open data. Note file is not in UTF-8 encoding, therefore clean up prior to opening."
   ]
  },
  {
   "cell_type": "code",
   "execution_count": null,
   "id": "47cc7857-94bf-4208-823d-0daf003e41f4",
   "metadata": {},
   "outputs": [],
   "source": [
    "# Load with cp1252 (or ISO-8859-1) to avoid Unicode error\n",
    "repd_data = pd.read_csv('repd-q4-jan-2025.csv', encoding='cp1252')\n",
    "\n",
    "# Then normalize any weird characters if needed\n",
    "repd_data = repd_data.map(lambda x: x.replace('\\xa0', ' ') if isinstance(x, str) else x)\n",
    "\n",
    "repd_data.head() # show raw data"
   ]
  },
  {
   "cell_type": "markdown",
   "id": "ff789833-949f-4cdc-b6d7-94f98ed07712",
   "metadata": {},
   "source": [
    "Filter data to include only wind turbines\n",
    "\n",
    "Filter out unneccessary data columns (e.g. related to other technologies, reference numbers used only by REPD data etc)"
   ]
  },
  {
   "cell_type": "code",
   "execution_count": null,
   "id": "377b285a-cc18-46d3-85fb-06d070b29066",
   "metadata": {},
   "outputs": [],
   "source": [
    "repd_data = repd_data[repd_data['Technology Type'] == 'Wind Onshore']\n",
    "repd_wind = repd_data.drop(columns=['Old Ref ID', 'Ref ID', 'Technology Type', \n",
    "                                    'Storage Type', 'CHP Enabled', 'Storage Co-location REPD Ref ID', \n",
    "                                    'Share Community Scheme', 'CfD Allocation Round', 'RO Banding (ROC/MWh)', \n",
    "                                    'CfD Capacity (MW)', 'Mounting Type for Solar', 'Are they re-applying (New REPD Ref)', \n",
    "                                    'Are they re-applying (Old REPD Ref) ', 'Development Status', 'Offshore Wind Round', \n",
    "                                    'Heat Network Ref', 'Solar Site Area (sqm)'])\n",
    "repd_wind.head() #check if successful"
   ]
  },
  {
   "cell_type": "code",
   "execution_count": null,
   "id": "5f5331b1-60bc-4d16-8195-910181752cd4",
   "metadata": {},
   "outputs": [],
   "source": [
    "# Check for non-numeric entries in the coordinate columns\n",
    "non_numeric_x = repd_wind[~repd_wind['X-coordinate'].apply(pd.to_numeric, errors='coerce').notnull()]\n",
    "non_numeric_y = repd_wind[~repd_wind['Y-coordinate'].apply(pd.to_numeric, errors='coerce').notnull()]\n",
    "\n",
    "# Display rows with non-numeric coordinates and include row indices\n",
    "print(\"Non-numeric X-coordinates:\")\n",
    "print(non_numeric_x[['X-coordinate', 'Y-coordinate']])  # Print only the indices\n",
    "\n",
    "print(\"Non-numeric Y-coordinates:\")\n",
    "print(non_numeric_y[['X-coordinate', 'Y-coordinate']])  # Print only the indices\n",
    "\n",
    "# Drop rows with NaN coordinates\n",
    "repd_wind = repd_wind.dropna(subset=['X-coordinate', 'Y-coordinate'])"
   ]
  },
  {
   "cell_type": "markdown",
   "id": "e80c32fd-219b-4a95-a66f-1ae1d974de60",
   "metadata": {},
   "source": [
    "Now convert the tabular data into vector format using the 'X-coordinate' and 'Y-coordinate' columns."
   ]
  },
  {
   "cell_type": "code",
   "execution_count": null,
   "id": "2404270d-da48-46a0-9ba3-ec328ae5fec0",
   "metadata": {},
   "outputs": [],
   "source": [
    "# Create the GeoDataFrame\n",
    "wind_turbines = gpd.GeoDataFrame(repd_wind,\n",
    "    geometry=gpd.points_from_xy(repd_wind['X-coordinate'], repd_wind['Y-coordinate']), # Create geometry from X, Y coordinate columns\n",
    "    crs='epsg:27700') # set ESPG to British National Grid\n",
    "\n",
    "wind_turbines.head() # Check if successful"
   ]
  },
  {
   "cell_type": "code",
   "execution_count": null,
   "id": "1f269f0c-643a-4f10-baea-d1c111e1032b",
   "metadata": {},
   "outputs": [],
   "source": [
    "# Folium is best used in a geographic coordinate system such as WGS 84 (epsg:4326). Make a copy of the GeoDataFrame with WGS 84:\n",
    "\n",
    "# Use WGS 84 (epsg:4326) as the geographic coordinate system\n",
    "wind_turbines_4326 = wind_turbines.to_crs(epsg=4326)\n",
    "print(wind_turbines_4326.crs)\n",
    "\n",
    "# Delete unneccessary coordinate columns:\n",
    "wind_turbines_4326 = wind_turbines_4326.drop(columns=['X-coordinate', 'Y-coordinate'])\n",
    "\n",
    "# Change NaN values for string columns to string N/A values\n",
    "str_columns = wind_turbines_4326.select_dtypes(include=['object'])\n",
    "\n",
    "# Fill NaN values in string columns with 'N/A'\n",
    "wind_turbines_4326[str_columns.columns] = str_columns.fillna('N/A')\n",
    "wind_turbines_4326"
   ]
  },
  {
   "cell_type": "markdown",
   "id": "20ae518f-3886-4317-bc94-3f7017221792",
   "metadata": {},
   "source": [
    "Check for invalid coordinates and geometries"
   ]
  },
  {
   "cell_type": "code",
   "execution_count": null,
   "id": "e8736756-fecf-4e02-9e3c-68a6fff3d0b7",
   "metadata": {},
   "outputs": [],
   "source": [
    "# Check for any data outside valid longitude (-180 to 180) or latitude (-90 to 90)\n",
    "bad_coords = wind_turbines_4326[\n",
    "    (wind_turbines_4326.geometry.x < -180) |\n",
    "    (wind_turbines_4326.geometry.x > 180) |\n",
    "    (wind_turbines_4326.geometry.y < -90) |\n",
    "    (wind_turbines_4326.geometry.y > 90)]\n",
    "\n",
    "print(f\"Out-of-bounds coordinates: {len(bad_coords)}\")\n",
    "bad_coords[['Site Name', 'geometry']]"
   ]
  },
  {
   "cell_type": "code",
   "execution_count": null,
   "id": "a01eb547-fd38-419d-a054-a04e26be10ed",
   "metadata": {},
   "outputs": [],
   "source": [
    "# Check for invalid geometries\n",
    "invalid_geom = wind_turbines_4326[\n",
    "    wind_turbines_4326.geometry.is_empty | wind_turbines_4326.geometry.isna()]\n",
    "\n",
    "print(f\"Invalid geometries: {len(invalid_geom)}\")\n",
    "invalid_geom[['Site Name', 'geometry']]"
   ]
  },
  {
   "cell_type": "code",
   "execution_count": null,
   "id": "ad1f1e4f-bd56-4f64-b016-9c88376493b7",
   "metadata": {},
   "outputs": [],
   "source": [
    "# Filter out invalid geometries and Infinity coordinates\n",
    "wind_turbines_4326 = wind_turbines_4326[\n",
    "    wind_turbines_4326.geometry.notnull() &\n",
    "    wind_turbines_4326.geometry.is_valid &\n",
    "    wind_turbines_4326.geometry.apply(lambda geom: geom.is_empty == False) &\n",
    "    wind_turbines_4326.geometry.apply(lambda geom: geom.x != float(\"inf\") and geom.y != float(\"inf\"))]"
   ]
  },
  {
   "cell_type": "code",
   "execution_count": null,
   "id": "9a87e18e-9da9-4a03-b892-9cffd47e89ca",
   "metadata": {
    "jupyter": {
     "source_hidden": true
    },
    "scrolled": true
   },
   "outputs": [],
   "source": [
    "# Make a folium map to check if successful\n",
    "m = wind_turbines_4326.explore(\n",
    "    column='Development Status (short)',\n",
    "    marker_type='marker',\n",
    "    popup=True,\n",
    "    legend=False,\n",
    "    tiles='OpenStreetMap')\n",
    "\n",
    "m # show map"
   ]
  },
  {
   "cell_type": "code",
   "execution_count": null,
   "id": "5e338f2f-9b85-4972-a8f9-c00d1807fd84",
   "metadata": {},
   "outputs": [],
   "source": [
    "# Edit column names to 10 characters max or check whether theres a way to keep full names"
   ]
  },
  {
   "cell_type": "code",
   "execution_count": null,
   "id": "b89d3a18-434e-43b3-8962-9c6cdc83bddb",
   "metadata": {
    "scrolled": true
   },
   "outputs": [],
   "source": [
    "# Save cleaned up dataset for use in next step\n",
    "wind_turbines_4326.to_file('wind_turbines.shp')"
   ]
  }
 ],
 "metadata": {
  "kernelspec": {
   "display_name": "Python 3 (ipykernel)",
   "language": "python",
   "name": "python3"
  },
  "language_info": {
   "codemirror_mode": {
    "name": "ipython",
    "version": 3
   },
   "file_extension": ".py",
   "mimetype": "text/x-python",
   "name": "python",
   "nbconvert_exporter": "python",
   "pygments_lexer": "ipython3",
   "version": "3.13.3"
  }
 },
 "nbformat": 4,
 "nbformat_minor": 5
}
