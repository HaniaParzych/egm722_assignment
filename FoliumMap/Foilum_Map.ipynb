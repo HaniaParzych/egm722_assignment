{
 "cells": [
  {
   "cell_type": "markdown",
   "id": "fc154ec5-3c75-498c-ac47-1d4e308231e0",
   "metadata": {},
   "source": [
    "Import necessary packages and open up freshly cleaned dataset"
   ]
  },
  {
   "cell_type": "code",
   "execution_count": null,
   "id": "0acba6ec-3bfa-4cff-be60-532720de10ee",
   "metadata": {},
   "outputs": [],
   "source": [
    "import pandas as pd\n",
    "import geopandas as gpd\n",
    "import folium\n",
    "from folium.plugins import Search\n",
    "import ipyleaflet"
   ]
  },
  {
   "cell_type": "code",
   "execution_count": null,
   "id": "abdf161f-2609-48c8-a7a4-89acb5ce51c1",
   "metadata": {},
   "outputs": [],
   "source": [
    "wind_turbines = gpd.read_file('../DataPrep/wind_turbines.shp')"
   ]
  },
  {
   "cell_type": "code",
   "execution_count": null,
   "id": "e518b95e-6141-4f28-b4bd-1a843ee17e27",
   "metadata": {},
   "outputs": [],
   "source": [
    "# Make a folium map\n",
    "m = wind_turbines.explore(\n",
    "    column='Developmen',\n",
    "    marker_type='marker',\n",
    "    popup=True,\n",
    "    legend=False,\n",
    "    tiles='OpenStreetMap')\n",
    "\n",
    "m # show map"
   ]
  },
  {
   "cell_type": "code",
   "execution_count": null,
   "id": "8ffb71c1-f044-4ee8-9c57-01a7c94fffe6",
   "metadata": {},
   "outputs": [],
   "source": [
    "# modify pop-up settings to only show relevant information, i.e. if N/A, dont show\n",
    "# but only for columns related to planning process i.e. from planning application withdrawn column to operational column (last column)"
   ]
  },
  {
   "cell_type": "code",
   "execution_count": null,
   "id": "3a708edb-92d4-45a0-a756-d937e0343626",
   "metadata": {},
   "outputs": [],
   "source": [
    "# add more base map options\n",
    "# add additional raster data for viewing context\n",
    "# change markers to show different colour by development status and by height category. \n",
    "# e.g. different colour by development status, different shape or size by height \n",
    "# perhaps define a function for this so viewer can change markers to reflect two categories like this"
   ]
  },
  {
   "cell_type": "code",
   "execution_count": null,
   "id": "24da8aee-3083-4b14-81fe-66e84802f8e4",
   "metadata": {},
   "outputs": [],
   "source": [
    "# add search function to map"
   ]
  },
  {
   "cell_type": "code",
   "execution_count": null,
   "id": "85d9a765-ca5d-44ee-877b-23d2bd515b61",
   "metadata": {},
   "outputs": [],
   "source": [
    "# look for a way to configure a link to the planning application from the data provided \n",
    "# e.g. taking into account the planning application reference number and the planning authority"
   ]
  }
 ],
 "metadata": {
  "kernelspec": {
   "display_name": "Python 3 (ipykernel)",
   "language": "python",
   "name": "python3"
  },
  "language_info": {
   "codemirror_mode": {
    "name": "ipython",
    "version": 3
   },
   "file_extension": ".py",
   "mimetype": "text/x-python",
   "name": "python",
   "nbconvert_exporter": "python",
   "pygments_lexer": "ipython3",
   "version": "3.13.3"
  }
 },
 "nbformat": 4,
 "nbformat_minor": 5
}
