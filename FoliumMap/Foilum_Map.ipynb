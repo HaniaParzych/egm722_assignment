{
 "cells": [
  {
   "cell_type": "markdown",
   "id": "fc154ec5-3c75-498c-ac47-1d4e308231e0",
   "metadata": {},
   "source": [
    "Import necessary packages and open up freshly cleaned dataset"
   ]
  },
  {
   "cell_type": "code",
   "execution_count": null,
   "id": "0acba6ec-3bfa-4cff-be60-532720de10ee",
   "metadata": {},
   "outputs": [],
   "source": [
    "import pandas as pd\n",
    "import geopandas as gpd\n",
    "import folium\n",
    "from folium.plugins import Search\n",
    "import ipyleaflet\n",
    "import matplotlib.pyplot as plt\n",
    "from matplotlib import colormaps\n",
    "import matplotlib.colors as mcolors"
   ]
  },
  {
   "cell_type": "code",
   "execution_count": null,
   "id": "abdf161f-2609-48c8-a7a4-89acb5ce51c1",
   "metadata": {},
   "outputs": [],
   "source": [
    "wind_turbines = gpd.read_file('../DataPrep/wind_turbines.gpkg')"
   ]
  },
  {
   "cell_type": "code",
   "execution_count": null,
   "id": "e518b95e-6141-4f28-b4bd-1a843ee17e27",
   "metadata": {
    "scrolled": true
   },
   "outputs": [],
   "source": [
    "# Define functions for later use\n",
    "\n",
    "# modify pop-up settings to only show relevant information, i.e. if N/A, dont show\n",
    "# but only for columns related to planning process i.e. from planning application withdrawn column to operational column (last column)\n",
    "# Function to create conditional popups, excluding N/A values for columns 15+ \n",
    "#(columns covering different stages in planning process, info unneccessary for all)\n",
    "def conditional_popups(gdf):\n",
    "    \"\"\"\n",
    "    Returns a list of popup HTML strings for all rows in a GeoDataFrame.\n",
    "    \"\"\"\n",
    "    popups = []\n",
    "    for _, row in gdf.iterrows():\n",
    "        popup_cond = []\n",
    "\n",
    "        for column in row.index[:16]:\n",
    "            popup_cond.append(f\"<b>{column}:</b> {row[column]}\")\n",
    "\n",
    "        for column in row.index[16:]:\n",
    "            value = str(row[column])\n",
    "            if value != 'N/A':\n",
    "                popup_cond.append(f\"<b>{column}:</b> {value}\")\n",
    "\n",
    "        popups.append(\"<br>\".join(popup_cond))\n",
    "    return popups\n",
    "\n",
    "# Function to assign marker radius based on turbine height bins\n",
    "def marker_radius(height):\n",
    "    try:\n",
    "        height = float(height)\n",
    "        if height < 50:\n",
    "            return 4\n",
    "        elif height < 100:\n",
    "            return 7\n",
    "        elif height < 150:\n",
    "            return 10\n",
    "        else:\n",
    "            return 13\n",
    "    except:\n",
    "        return 6  # default if missing/invalid\n",
    "\n",
    "# Function to assign marker colour based on a specific column\n",
    "def marker_colour(gdf, column_name):\n",
    "    \"\"\"\n",
    "    Generate a dictionary of colors for each unique category in a given column.\n",
    "    \"\"\"\n",
    "    unique_values = gdf[column_name].dropna().unique()\n",
    "    n = len(unique_values)\n",
    "\n",
    "    # Use a colormap from matplotlib\n",
    "    cmap = colormaps.get_cmap('tab20').resampled(n)\n",
    "    colors = [mcolors.to_hex(cmap(i)) for i in range(n)]\n",
    "\n",
    "    # Map each unique category to a color\n",
    "    return dict(zip(unique_values, colors))\n",
    "\n",
    "# Define a legend function based on the colours and sizes defined previously\n",
    "def add_legend(map, colour_dict):\n",
    "    \"\"\"\n",
    "    Add a custom HTML legend to the map, including both color and size information.\n",
    "    \"\"\"\n",
    "    size_dict = {\n",
    "        '0-50 meters': 4,\n",
    "        '50-100 meters': 7,\n",
    "        '100-150 meters': 10,\n",
    "        '150+ meters': 13\n",
    "    }\n",
    "\n",
    "    # Start building the legend HTML\n",
    "    legend_html = '''\n",
    "        <div style=\"position: fixed; \n",
    "                    bottom: 50px; left: 50px; width: 250px; height: auto; \n",
    "                    border:2px solid grey; z-index:9999; font-size:14px; \n",
    "                    background-color: white; opacity: 0.7; padding: 10px;\">\n",
    "                    <b>Wind Turbine Legend</b><br>\n",
    "                    <b>Development Status (Short)</b><br>\n",
    "    '''\n",
    "    \n",
    "    # Add each category and its color to the legend\n",
    "    for category, color in colour_dict.items():\n",
    "        legend_html += f'<i style=\"background: {color}; width: 20px; height: 20px; display: inline-block; margin-right: 8px;\"></i>{category}<br>'\n",
    "    \n",
    "    # Add turbine height sizing information to the legend\n",
    "    legend_html += '<br><b>Turbine Height (m)</b><br>'\n",
    "    for height_range, radius in size_dict.items():\n",
    "        # Add circular markers in the legend that match the size of the radius\n",
    "        legend_html += f'<i style=\"background: gray; border-radius: 50%; width: {radius * 2}px; height: {radius * 2}px; display: inline-block; margin-right: 8px;\"></i>{height_range}<br>'\n",
    "  \n",
    "    legend_html += '</div>'\n",
    "    \n",
    "    # Add the legend to the map as a popup\n",
    "    map.get_root().html.add_child(folium.Element(legend_html))"
   ]
  },
  {
   "cell_type": "code",
   "execution_count": null,
   "id": "857b341d-048c-401b-8db2-f39bc00c1f0c",
   "metadata": {},
   "outputs": [],
   "source": [
    "# Get the list of columns with their index numbers\n",
    "index_columns = [(index, column) for index, column in enumerate(wind_turbines.columns)]\n",
    "\n",
    "# Print the list\n",
    "for index, column in index_columns:\n",
    "    print(f\"{index}: {column}\")\n"
   ]
  },
  {
   "cell_type": "code",
   "execution_count": null,
   "id": "162c805e-5103-4fb0-82b3-39a05926cee0",
   "metadata": {},
   "outputs": [],
   "source": [
    "unique_values = list(wind_turbines[\"Development Status (short)\"].dropna().unique())\n",
    "unique_values"
   ]
  },
  {
   "cell_type": "code",
   "execution_count": null,
   "id": "8ffb71c1-f044-4ee8-9c57-01a7c94fffe6",
   "metadata": {},
   "outputs": [],
   "source": [
    "# check if successful\n",
    "\n",
    "# Create the map\n",
    "m = folium.Map(location=[\n",
    "    wind_turbines.geometry.y.mean(),\n",
    "    wind_turbines.geometry.x.mean()\n",
    "], zoom_start=6)\n",
    "\n",
    "# Generate popups\n",
    "popup_list = conditional_popups(wind_turbines)\n",
    "\n",
    "# Generate color mapping\n",
    "colours = marker_colour(wind_turbines, 'Development Status (short)')\n",
    "\n",
    "# Add markers\n",
    "for i, (idx, row) in enumerate(wind_turbines.iterrows()):\n",
    "    popup_html = popup_list[i]\n",
    "    status = row['Development Status (short)']  # <-- Get current status\n",
    "    color = colours.get(status, 'black')        # <-- Get color for status\n",
    "    radius = marker_radius(row['Height of Turbines (m)'])\n",
    "\n",
    "    if pd.notna(row.geometry.y) and pd.notna(row.geometry.x):\n",
    "        folium.CircleMarker(\n",
    "            location=[row.geometry.y, row.geometry.x],\n",
    "            radius=radius,\n",
    "            color=color,\n",
    "            fill=True,\n",
    "            fill_color=color,\n",
    "            fill_opacity=0.8,\n",
    "            popup=folium.Popup(popup_html, max_width=300)\n",
    "        ).add_to(m)\n",
    "\n",
    "# Add the custom legend\n",
    "add_legend(m, colours)\n",
    "\n",
    "# Display map\n",
    "m\n"
   ]
  },
  {
   "cell_type": "code",
   "execution_count": null,
   "id": "82aa464b-43a1-4b16-ac18-89fdd89db6da",
   "metadata": {},
   "outputs": [],
   "source": [
    "# add satellite basemap option to interactive map\n",
    "tile = folium.TileLayer(\n",
    "        tiles = 'https://server.arcgisonline.com/ArcGIS/rest/services/World_Imagery/MapServer/tile/{z}/{y}/{x}',\n",
    "        attr = 'Esri',\n",
    "        name = 'Esri Satellite',\n",
    "        overlay = True,\n",
    "        control = False\n",
    "       ).add_to(m)\n",
    "\n",
    "folium.LayerControl().add_to(m)\n",
    "\n",
    "m"
   ]
  },
  {
   "cell_type": "code",
   "execution_count": null,
   "id": "3a708edb-92d4-45a0-a756-d937e0343626",
   "metadata": {},
   "outputs": [],
   "source": [
    "# add additional raster and vector data for viewing context"
   ]
  },
  {
   "cell_type": "code",
   "execution_count": null,
   "id": "24da8aee-3083-4b14-81fe-66e84802f8e4",
   "metadata": {},
   "outputs": [],
   "source": [
    "# add search function to map"
   ]
  }
 ],
 "metadata": {
  "kernelspec": {
   "display_name": "Python 3 (ipykernel)",
   "language": "python",
   "name": "python3"
  },
  "language_info": {
   "codemirror_mode": {
    "name": "ipython",
    "version": 3
   },
   "file_extension": ".py",
   "mimetype": "text/x-python",
   "name": "python",
   "nbconvert_exporter": "python",
   "pygments_lexer": "ipython3",
   "version": "3.13.3"
  }
 },
 "nbformat": 4,
 "nbformat_minor": 5
}
